{
 "metadata": {
  "kernelspec": {
   "display_name": "Streamlit Notebook",
   "name": "streamlit"
  },
  "lastEditStatus": {
   "notebookId": "oz5i2qqjhxl6ypenbjsq",
   "authorId": "7949601854402",
   "authorName": "Mohammad.Khan@precisely.com",
   "authorEmail": "mohammad.khan@precisely.com",
   "sessionId": "b1f928af-d575-42f5-9143-f7d84a260010",
   "lastEditTime": 1743684908943
  }
 },
 "nbformat_minor": 5,
 "nbformat": 4,
 "cells": [
  {
   "cell_type": "code",
   "id": "3775908f-ca36-4846-8f38-5adca39217f2",
   "metadata": {
    "language": "python",
    "name": "cell1",
    "resultHeight": 0,
    "collapsed": false
   },
   "source": "import pandas as pd\nimport geopandas as gpd\nfrom shapely import wkt\nfrom shapely.geometry import Point\nfrom IPython.display import display, IFrame\nfrom snowflake.snowpark.context import get_active_session\nimport streamlit as st\n\nsession = get_active_session()\n\nst.title(\"MBI Data Analytics\")",
   "execution_count": null,
   "outputs": []
  },
  {
   "cell_type": "code",
   "id": "2ea35e36-dd7a-4f32-8f66-18ecc680ec91",
   "metadata": {
    "language": "python",
    "name": "geometry_conversion_to_point",
    "codeCollapsed": false
   },
   "outputs": [],
   "source": "def create_geom(row):\n    if 'WKT' in row.keys():\n        return wkt.loads(row['WKT'])\n    else:\n        return Point(row['LONGITUDE'], row['LATITUDE'])",
   "execution_count": null
  },
  {
   "cell_type": "code",
   "id": "d248fdf1-6b2d-4d95-afa6-a19e22251b1c",
   "metadata": {
    "language": "python",
    "name": "data_filtering",
    "codeCollapsed": false
   },
   "outputs": [],
   "source": "# Filtering the mbi polygon data to \nq = '''\n        select * from MBI__PREMIUM_GEOSPATIAL__MARKET_DATA.PROMOTIONAL.\"mbi_demographics_jp\" \n        where MICROCODE = '13123031007'\n    '''\n\n# Execute the query (ensure session is defined and connected to Snowflake)\ndf = session.sql(q).to_pandas()\n\n# Create geometry column using the helper function\ndf['GEOM'] = df.apply(create_geom, axis=1)\n\n# Create a GeoDataFrame with the appropriate CRS\ngdf = gpd.GeoDataFrame(df, geometry='GEOM', crs=\"EPSG:4326\")\n",
   "execution_count": null
  },
  {
   "cell_type": "code",
   "id": "2066cffe-abd7-40b1-bddd-244fca836e16",
   "metadata": {
    "language": "python",
    "name": "geometry_conversion_to_polygon",
    "codeCollapsed": false
   },
   "outputs": [],
   "source": "def get_polygon_coords(geom):\n    \"\"\"\n    Extract coordinates from a geometry.\n    If it's a Polygon, return its exterior coordinates in a list.\n    If it's a MultiPolygon, return a list of exterior coordinates for each polygon.\n    \"\"\"\n    if geom.geom_type == 'Polygon':\n        return [list(geom.exterior.coords)]\n    elif geom.geom_type == 'MultiPolygon':\n        return [list(p.exterior.coords) for p in geom.geoms]\n    else:\n        return None\n",
   "execution_count": null
  },
  {
   "cell_type": "code",
   "id": "70e6242a-9146-49af-a669-8628b2b6c987",
   "metadata": {
    "language": "python",
    "name": "render_mbi_polygon_data_to_map",
    "codeCollapsed": false
   },
   "outputs": [],
   "source": "import pydeck as pdk\ndef render_polygon(gdf):\n    # Create a DataFrame for the polygon layer by dropping the GEOM column.\n    df_poly = pd.DataFrame(gdf.drop(columns=['GEOM']))\n    \n    # Extract polygon coordinates using the helper function.\n    df_poly['coordinates'] = gdf['GEOM'].apply(get_polygon_coords)\n    \n    # Create the PolygonLayer for pydeck.\n    polygon_layer = pdk.Layer(\n        'PolygonLayer',\n        df_poly,\n        get_polygon='coordinates',\n        stroked=True,\n        extruded=False,\n        opacity=0.3,\n        filled=True,\n        get_fill_color=[0, 255, 0],\n        get_line_color=[255, 0, 0],\n        pickable=True\n    )\n    \n    # Re-project gdf to a projected CRS (EPSG:3857) for correct centroid calculation.\n    gdf_projected = gdf.to_crs(epsg=3857)\n    centroids_projected = gdf_projected.centroid\n    # Transform the centroids back to the geographic CRS (EPSG:4326).\n    centroids = centroids_projected.to_crs(epsg=4326)\n    \n    # Calculate the mean latitude and longitude from the centroids.\n    view_state = pdk.ViewState(\n        latitude=centroids.y.mean(),\n        longitude=centroids.x.mean(),\n        zoom=14,\n        bearing=0,\n        pitch=0\n    )\n\n    # Define a tooltip for extra details on each point.\n    tooltip = {\n        'html': '''\n                <b>Name:</b> {NAME}<br>\n                <b>Microcode:</b> {MICROCODE}<br>\n                <b>Households: total number:</b> {HH_T}<br>\n                <b>Average Household Size:</b> {HH_SIZE}<br>\n                <b>Population (males):</b> {MALE}<br>\n                <b>Population (Females):</b> {FEMALE}<br>\n                <b>Population (University):</b> {EDU_5}<br>\n                <b>Purchasing Power: Euro per capita:</b> {PP_EURO} <b>\n                \n            ''',\n        'style': {\n            'backgroundColor': 'steelblue',\n            'color': 'white'\n        }\n    }\n    \n    # Return the pydeck.Deck for rendering.\n    return pdk.Deck(\n        map_style='mapbox://styles/mapbox/light-v9',\n        layers=[polygon_layer],\n        initial_view_state=view_state,\n        # Uncomment and customize the tooltip if needed:\n        tooltip=tooltip\n    )\n",
   "execution_count": null
  },
  {
   "cell_type": "code",
   "id": "1d1c269c-443d-48ba-814e-b5bdd2b50ae5",
   "metadata": {
    "language": "python",
    "name": "create_map",
    "codeCollapsed": false
   },
   "outputs": [],
   "source": "st.pydeck_chart(render_polygon(gdf))",
   "execution_count": null
  },
  {
   "cell_type": "code",
   "id": "3eca1247-a90a-4304-9e6b-7ac9ede05760",
   "metadata": {
    "language": "python",
    "name": "filter_poi_data",
    "codeCollapsed": false
   },
   "outputs": [],
   "source": "q = '''\n        select * from MBI__PREMIUM_GEOSPATIAL__MARKET_DATA.PROMOTIONAL.\"poi_jp\" \n        where MICROCODE = '13123031007'\n    '''\n\n# Execute the query (assuming 'session' is your active Snowflake session)\ndf = session.sql(q).to_pandas()\n\n# Create a geometry column using the helper function.\ndf['GEOM'] = df.apply(create_geom, axis=1)\n\n# Convert LATITUDE and LONGITUDE columns to float.\ndf['LATITUDE'] = df['LATITUDE'].astype(float)\ndf['LONGITUDE'] = df['LONGITUDE'].astype(float)\n\nprint(\"DataFrame shape:\", df.shape)\n",
   "execution_count": null
  },
  {
   "cell_type": "code",
   "id": "147b3fa4-2953-410c-97e9-79887a7b4ffc",
   "metadata": {
    "language": "python",
    "name": "geometric_transformations",
    "codeCollapsed": false
   },
   "outputs": [],
   "source": "# Create a GeoDataFrame with the appropriate CRS.\ngdf = gpd.GeoDataFrame(df, geometry='GEOM', crs=\"EPSG:4326\")\n# Optionally, inspect your GeoDataFrame:\n#gdf.info()\n",
   "execution_count": null
  },
  {
   "cell_type": "code",
   "id": "3ee0d893-07be-4067-ab95-f49846cbb638",
   "metadata": {
    "language": "python",
    "name": "rendering_poi_data",
    "codeCollapsed": false
   },
   "outputs": [],
   "source": "def render_points(gdf):\n    # Set the initial view using the average of latitude and longitude.\n    view_state = pdk.ViewState(\n        latitude=gdf['LATITUDE'].mean(),\n        longitude=gdf['LONGITUDE'].mean(),\n        zoom=14,\n        bearing=0,\n    )\n    \n    # Define the ScatterplotLayer.\n    layer = pdk.Layer(\n        \"ScatterplotLayer\",\n        gdf,\n        get_position=[\"LONGITUDE\", \"LATITUDE\"],\n        get_color=[255, 0, 0, 200],\n        get_radius=0.5,\n        pickable=True,\n        opacity=0.8,\n        stroked=True,\n        filled=True,\n        radius_scale=6,\n        radius_min_pixels=1,\n        radius_max_pixels=100,\n        line_width_min_pixels=1,\n    )\n\n    # Define a tooltip for extra details on each point.\n    tooltip = {\n        'html': '''\n                <b>PB Id:</b> {PB_ID}<br>\n                <b>Name:</b> {NAME}<br>\n                <b>Microcode:</b> {MICROCODE}<br>\n                <b>Address:</b> {MAIN_ADDRE}<br>\n                <b>Post Code:</b> {POSTCODE}<br>\n                <b>Main Class:</b> {MAIN_CLASS}<br>\n                <b>Bussiness:</b> {BUSINESS_L}<br>\n                <b>Group Name:</b> {GROUP_NAME}<br>\n                \n            ''',\n        'style': {\n            'backgroundColor': 'steelblue',\n            'color': 'white'\n        }\n    }\n    \n    # Create and return the pydeck.Deck.\n    deck = pdk.Deck(\n        map_style='mapbox://styles/mapbox/light-v9',\n        layers=[layer],\n        initial_view_state=view_state,\n        tooltip=tooltip\n    )\n\n    return deck\n\n# Render the points on the map.\nst.pydeck_chart(render_points(gdf))\n",
   "execution_count": null
  },
  {
   "cell_type": "code",
   "id": "e7fe2c48-37e5-4fa3-93d3-a4bd81e2bbc4",
   "metadata": {
    "language": "python",
    "name": "filter_mbi_data"
   },
   "outputs": [],
   "source": "q_poly = '''\n        select * from MBI__PREMIUM_GEOSPATIAL__MARKET_DATA.PROMOTIONAL.\"mbi_demographics_jp\" \n        where MICROCODE = '13123031007'\n    '''\n\ndf_poly = session.sql(q_poly).to_pandas()\n# Assume df_poly already has the necessary columns (or a WKT column)\ndf_poly['GEOM'] = df_poly.apply(create_geom, axis=1)\n# Create GeoDataFrame for polygons\ngdf_polygons = gpd.GeoDataFrame(df_poly, geometry='GEOM', crs=\"EPSG:4326\")",
   "execution_count": null
  },
  {
   "cell_type": "code",
   "id": "74925550-1075-451c-b70c-45c37611f158",
   "metadata": {
    "language": "python",
    "name": "filter_poi",
    "codeCollapsed": false
   },
   "outputs": [],
   "source": "q_point = '''\n        select * from MBI__PREMIUM_GEOSPATIAL__MARKET_DATA.PROMOTIONAL.\"poi_jp\" \n        where MICROCODE = '13123031007'\n    '''\n\ndf_point = session.sql(q_point).to_pandas()\ndf_point['GEOM'] = df_point.apply(create_geom, axis=1)\n# Convert LATITUDE and LONGITUDE to float, if needed\ndf_point['LATITUDE'] = df_point['LATITUDE'].astype(float)\ndf_point['LONGITUDE'] = df_point['LONGITUDE'].astype(float)\n# Create GeoDataFrame for points\ngdf_points = gpd.GeoDataFrame(df_point, geometry='GEOM', crs=\"EPSG:4326\")\n\n#print(\"Polygon DF shape:\", gdf_polygons.shape)\n#print(\"Point DF shape:\", gdf_points.shape)\n",
   "execution_count": null
  },
  {
   "cell_type": "code",
   "id": "cafa9f87-470e-4408-b3bb-d9fdc8301e0d",
   "metadata": {
    "language": "python",
    "name": "rendering_both_layers_on_map",
    "codeCollapsed": false
   },
   "outputs": [],
   "source": "def render_combined_map(gdf_points, gdf_polygons):\n    # ----- Polygon Layer -----\n    # Prepare a DataFrame for the polygon layer.\n    df_poly_layer = pd.DataFrame(gdf_polygons.drop(columns=['GEOM']))\n    df_poly_layer['coordinates'] = gdf_polygons['GEOM'].apply(get_polygon_coords)\n    \n    polygon_layer = pdk.Layer(\n        'PolygonLayer',\n        df_poly_layer,\n        get_polygon='coordinates',\n        stroked=True,\n        extruded=False,\n        opacity=0.3,\n        filled=True,\n        get_fill_color=[0, 255, 0],\n        get_line_color=[255, 0, 0],\n        pickable=True\n    )\n    \n    # ----- Point Layer -----\n    point_layer = pdk.Layer(\n        \"ScatterplotLayer\",\n        gdf_points,\n        get_position=[\"LONGITUDE\", \"LATITUDE\"],\n        get_color=[255, 0, 0, 200],\n        get_radius=0.5,\n        pickable=True,\n        opacity=0.8,\n        stroked=True,\n        filled=True,\n        radius_scale=6,\n        radius_min_pixels=1,\n        radius_max_pixels=100,\n        line_width_min_pixels=1,\n    )\n    \n    # ----- Combined View State -----\n    # For the point layer, compute average latitude and longitude.\n    point_lat = gdf_points['LATITUDE'].mean()\n    point_lon = gdf_points['LONGITUDE'].mean()\n    \n    # For the polygon layer, compute centroids after reprojecting to a projected CRS.\n    gdf_poly_proj = gdf_polygons.to_crs(epsg=3857)\n    poly_centroids_proj = gdf_poly_proj.centroid\n    poly_centroids = poly_centroids_proj.to_crs(epsg=4326)\n    poly_lat = poly_centroids.y.mean()\n    poly_lon = poly_centroids.x.mean()\n    \n    # Compute an overall center by averaging the two.\n    combined_lat = (point_lat + poly_lat) / 2\n    combined_lon = (point_lon + poly_lon) / 2\n\n    view_state = pdk.ViewState(\n        latitude=combined_lat,\n        longitude=combined_lon,\n        zoom=14,\n        bearing=0,\n        pitch=0\n    )\n\n    # Define a tooltip for extra details on each point.\n    tooltip = {\n        'html': '''\n                <b>Name:</b> {NAME}<br>\n                <b>Microcode:</b> {MICROCODE}<br>\n                <b>Households: total number:</b> {HH_T}<br>\n                <b>Average Household Size:</b> {HH_SIZE}<br>\n                <b>Population (males):</b> {MALE}<br>\n                <b>Population (Females):</b> {FEMALE}<br>\n                <b>Population (University):</b> {EDU_5}<br>\n                <b>Purchasing Power: Euro per capita:</b> {PP_EURO} <b>\n                <b>Address:</b> {MAIN_ADDRE}<br>\n                <b>Post Code:</b> {POSTCODE}<br>\n                <b>Main Class:</b> {MAIN_CLASS}<br>\n                <b>Bussiness:</b> {BUSINESS_L}<br>\n                <b>Group Name:</b> {GROUP_NAME}<br>\n                \n            ''',\n        'style': {\n            'backgroundColor': 'steelblue',\n            'color': 'white'\n        }\n    }\n    \n    # ----- Create the Combined Deck -----\n    deck = pdk.Deck(\n        map_style='mapbox://styles/mapbox/light-v9',\n        layers=[polygon_layer, point_layer],\n        initial_view_state=view_state,\n        tooltip=tooltip\n    )\n    \n    return deck\n",
   "execution_count": null
  },
  {
   "cell_type": "code",
   "id": "91e5981c-3157-4679-8b64-ec37320cd107",
   "metadata": {
    "language": "python",
    "name": "cell4",
    "codeCollapsed": false
   },
   "outputs": [],
   "source": "st.pydeck_chart(render_combined_map(gdf_points, gdf_polygons))\n",
   "execution_count": null
  },
  {
   "cell_type": "code",
   "id": "07d30e06-3829-4611-a1ba-382efa9cbdf1",
   "metadata": {
    "language": "python",
    "name": "cell9"
   },
   "outputs": [],
   "source": "",
   "execution_count": null
  }
 ]
}
